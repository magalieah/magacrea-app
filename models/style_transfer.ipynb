{
  "cells": [
    {
      "cell_type": "markdown",
      "metadata": {
        "id": "d80144c8-16ee-4bcb-b86d-5ebd0635e1c2"
      },
      "source": [
        "# Style transfer image2image (photo to image)\n",
        "### https://www.kaggle.com/code/theblackmamba31/photo-to-sketch-using-autoencoder"
      ],
      "id": "d80144c8-16ee-4bcb-b86d-5ebd0635e1c2"
    },
    {
      "cell_type": "code",
      "execution_count": 107,
      "metadata": {
        "colab": {
          "base_uri": "https://localhost:8080/"
        },
        "id": "d9g9ouhbE8K2",
        "outputId": "460152a5-1c0d-4ba0-db3d-253a31837267"
      },
      "outputs": [
        {
          "output_type": "stream",
          "name": "stdout",
          "text": [
            "Requirement already satisfied: wandb in /usr/local/lib/python3.10/dist-packages (0.16.0)\n",
            "Requirement already satisfied: Click!=8.0.0,>=7.1 in /usr/local/lib/python3.10/dist-packages (from wandb) (8.1.7)\n",
            "Requirement already satisfied: GitPython!=3.1.29,>=1.0.0 in /usr/local/lib/python3.10/dist-packages (from wandb) (3.1.40)\n",
            "Requirement already satisfied: requests<3,>=2.0.0 in /usr/local/lib/python3.10/dist-packages (from wandb) (2.31.0)\n",
            "Requirement already satisfied: psutil>=5.0.0 in /usr/local/lib/python3.10/dist-packages (from wandb) (5.9.5)\n",
            "Requirement already satisfied: sentry-sdk>=1.0.0 in /usr/local/lib/python3.10/dist-packages (from wandb) (1.37.1)\n",
            "Requirement already satisfied: docker-pycreds>=0.4.0 in /usr/local/lib/python3.10/dist-packages (from wandb) (0.4.0)\n",
            "Requirement already satisfied: PyYAML in /usr/local/lib/python3.10/dist-packages (from wandb) (6.0.1)\n",
            "Requirement already satisfied: setproctitle in /usr/local/lib/python3.10/dist-packages (from wandb) (1.3.3)\n",
            "Requirement already satisfied: setuptools in /usr/local/lib/python3.10/dist-packages (from wandb) (67.7.2)\n",
            "Requirement already satisfied: appdirs>=1.4.3 in /usr/local/lib/python3.10/dist-packages (from wandb) (1.4.4)\n",
            "Requirement already satisfied: protobuf!=4.21.0,<5,>=3.19.0 in /usr/local/lib/python3.10/dist-packages (from wandb) (3.20.3)\n",
            "Requirement already satisfied: six>=1.4.0 in /usr/local/lib/python3.10/dist-packages (from docker-pycreds>=0.4.0->wandb) (1.16.0)\n",
            "Requirement already satisfied: gitdb<5,>=4.0.1 in /usr/local/lib/python3.10/dist-packages (from GitPython!=3.1.29,>=1.0.0->wandb) (4.0.11)\n",
            "Requirement already satisfied: charset-normalizer<4,>=2 in /usr/local/lib/python3.10/dist-packages (from requests<3,>=2.0.0->wandb) (3.3.2)\n",
            "Requirement already satisfied: idna<4,>=2.5 in /usr/local/lib/python3.10/dist-packages (from requests<3,>=2.0.0->wandb) (3.4)\n",
            "Requirement already satisfied: urllib3<3,>=1.21.1 in /usr/local/lib/python3.10/dist-packages (from requests<3,>=2.0.0->wandb) (2.0.7)\n",
            "Requirement already satisfied: certifi>=2017.4.17 in /usr/local/lib/python3.10/dist-packages (from requests<3,>=2.0.0->wandb) (2023.7.22)\n",
            "Requirement already satisfied: smmap<6,>=3.0.1 in /usr/local/lib/python3.10/dist-packages (from gitdb<5,>=4.0.1->GitPython!=3.1.29,>=1.0.0->wandb) (5.0.1)\n"
          ]
        }
      ],
      "source": [
        "!pip install wandb"
      ],
      "id": "d9g9ouhbE8K2"
    },
    {
      "cell_type": "code",
      "execution_count": 108,
      "metadata": {
        "id": "3aa2846e-b56b-4114-9783-4849538e2e80"
      },
      "outputs": [],
      "source": [
        "import matplotlib.pyplot as plt       # Plotting\n",
        "import numpy as np                    # Tableau Multidimensionnel\n",
        "import torchvision\n",
        "import torch\n",
        "import torch.nn as nn\n",
        "import torch.nn.functional as F\n",
        "import os\n",
        "import cv2, glob\n",
        "import wandb\n",
        "import random\n",
        "\n",
        "\n",
        "from tqdm import tqdm\n",
        "from datetime import datetime\n",
        "from torchvision import models, datasets, transforms\n",
        "from sklearn.model_selection import train_test_split\n",
        "from sklearn.metrics import confusion_matrix\n",
        "from torch.utils.data import DataLoader, Dataset\n",
        "from torchsummary import summary\n",
        "from glob import glob\n",
        "\n",
        "IM_SIZE = 256"
      ],
      "id": "3aa2846e-b56b-4114-9783-4849538e2e80"
    },
    {
      "cell_type": "code",
      "execution_count": 109,
      "metadata": {
        "id": "4dd23f63-dcca-4036-9fb8-8b7258400d2c"
      },
      "outputs": [],
      "source": [
        "device = 'cuda' if torch.cuda.is_available() else 'cpu'"
      ],
      "id": "4dd23f63-dcca-4036-9fb8-8b7258400d2c"
    },
    {
      "cell_type": "code",
      "execution_count": 110,
      "metadata": {
        "colab": {
          "base_uri": "https://localhost:8080/",
          "height": 53
        },
        "id": "GsjX3i3MhyHL",
        "outputId": "b350dcde-e53c-49d3-ad85-b7b0e79ed24d"
      },
      "outputs": [
        {
          "output_type": "execute_result",
          "data": {
            "text/plain": [
              "'cuda'"
            ],
            "application/vnd.google.colaboratory.intrinsic+json": {
              "type": "string"
            }
          },
          "metadata": {},
          "execution_count": 110
        }
      ],
      "source": [
        "device"
      ],
      "id": "GsjX3i3MhyHL"
    },
    {
      "cell_type": "markdown",
      "metadata": {
        "id": "53690ecc-e79d-4675-912a-e54c3c6afbab"
      },
      "source": [
        "## Loading data - b&w sketch"
      ],
      "id": "53690ecc-e79d-4675-912a-e54c3c6afbab"
    },
    {
      "cell_type": "code",
      "execution_count": 126,
      "metadata": {
        "id": "vbu0BxLJGME9"
      },
      "outputs": [],
      "source": [
        "class PhotoDatasetAugmented(Dataset):\n",
        "    def __init__(self, drawings_data_dir, photo_data_dir, train=True):\n",
        "        self.train=train\n",
        "        self.drawings_path = glob(drawings_data_dir +'/*.jpeg')\n",
        "        self.photos_path = [ photo_data_dir + elem.split('/')[-1].split('_')[-2] + '_photo.jpeg' for elem in self.drawings_path]\n",
        "        self.transforms_initial = transforms.Compose([\n",
        "            transforms.ToTensor(),\n",
        "            transforms.Resize([256,256], antialias=True),\n",
        "        ])\n",
        "        self.transforms_fliprotate = transforms.Compose([\n",
        "            transforms.RandomRotation(180, fill=1.0),\n",
        "            transforms.RandomHorizontalFlip(0.25),\n",
        "        ])\n",
        "        self.transforms_color = transforms.ColorJitter(hue=0.5)\n",
        "    def __len__(self): return len(self.photos_path)\n",
        "    def __getitem__(self, ix):\n",
        "        photo = cv2.cvtColor(cv2.imread(self.photos_path[ix]), cv2.COLOR_BGR2RGB)\n",
        "        drawing = cv2.cvtColor(cv2.imread(self.drawings_path[ix]), cv2.COLOR_BGR2RGB)\n",
        "        photo = self.transforms_initial(photo)\n",
        "        drawing = self.transforms_initial(drawing)\n",
        "        if self.train:\n",
        "          if random.random()>0.5:\n",
        "            photo = self.transforms_color(photo)\n",
        "          pair_tensor = torch.stack((photo, drawing))\n",
        "          pair_tensor = self.transforms_fliprotate(pair_tensor)\n",
        "          photo, drawing = torch.unbind(pair_tensor)\n",
        "        return photo, drawing\n"
      ],
      "id": "vbu0BxLJGME9"
    },
    {
      "cell_type": "code",
      "execution_count": 127,
      "metadata": {
        "id": "6bea4330-422f-4740-ba6c-80123e3f8faf"
      },
      "outputs": [],
      "source": [
        "train_dataset = PhotoDatasetAugmented('data/dessin/train_dessin/bw', 'data/photo/', train=False)\n",
        "test_dataset = PhotoDatasetAugmented('data/dessin/test_dessin/bw',  'data/photo/', train=False)"
      ],
      "id": "6bea4330-422f-4740-ba6c-80123e3f8faf"
    },
    {
      "cell_type": "code",
      "execution_count": 128,
      "metadata": {
        "id": "e84a613b-8a13-4c1e-a34a-c5a5f7b14e8b"
      },
      "outputs": [],
      "source": [
        "train_dataloader = DataLoader(train_dataset, batch_size=4, shuffle=True, num_workers=2)\n",
        "test_dataloader = DataLoader(test_dataset, batch_size=4, shuffle=True, num_workers=2)"
      ],
      "id": "e84a613b-8a13-4c1e-a34a-c5a5f7b14e8b"
    },
    {
      "cell_type": "code",
      "execution_count": 129,
      "metadata": {
        "id": "c4c3d825-1182-43ab-a36d-b43af30d6efa"
      },
      "outputs": [],
      "source": [
        "class AE(torch.nn.Module):\n",
        "\tdef __init__(self):\n",
        "\t\tsuper().__init__()\n",
        "\t\t# Conv2D (in_channel, out_channel, kernel_size, stride)\n",
        "\t\tself.encoder = nn.Sequential(\n",
        "            nn.Conv2d(3, 16, 4, stride=2, bias=False),\n",
        "            nn.LeakyReLU(),\n",
        "            nn.Conv2d(16, 32, 4, stride=2, bias=False),\n",
        "            nn.BatchNorm2d(32),\n",
        "            nn.LeakyReLU(),\n",
        "            nn.Conv2d(32, 64, 4, stride=2, bias=False),\n",
        "            nn.LeakyReLU(),\n",
        "            nn.Conv2d(64, 128, 4, stride=2, bias=False),\n",
        "            nn.BatchNorm2d(128),\n",
        "            nn.LeakyReLU(),\n",
        "            nn.Conv2d(128, 256, 4, stride=2, bias=False),\n",
        "            nn.BatchNorm2d(256),\n",
        "            nn.LeakyReLU(),\n",
        "            nn.Conv2d(256, 512, 4, stride=2, bias=False),\n",
        "            nn.BatchNorm2d(512),\n",
        "            nn.LeakyReLU()\n",
        "\t\t)\n",
        "\n",
        "\t\tself.decoder = nn.Sequential(\n",
        "            nn.ConvTranspose2d(512, 512, 4, stride=2, bias=False),\n",
        "            nn.Dropout(0.1),\n",
        "            nn.LeakyReLU(),\n",
        "            nn.ConvTranspose2d(512, 256, 4, stride=2, bias=False),\n",
        "            nn.LeakyReLU(),\n",
        "            nn.ConvTranspose2d(256, 128, 4, stride=2, bias=False),\n",
        "            nn.Dropout(0.1),\n",
        "            nn.LeakyReLU(),\n",
        "            nn.ConvTranspose2d(128, 64, 4, stride=2, bias=False),\n",
        "            nn.LeakyReLU(),\n",
        "            nn.ConvTranspose2d(64, 32, 4, stride=2, bias=False),\n",
        "            nn.LeakyReLU(),\n",
        "            nn.ConvTranspose2d(32, 16, 4, stride=2, bias=False),\n",
        "            nn.LeakyReLU(),\n",
        "            nn.ConvTranspose2d(16, 8, (2,2), stride=(1,1)),\n",
        "            nn.ConvTranspose2d(8, 3, (2,2), stride=(1,1))\n",
        "\t\t)\n",
        "\n",
        "\tdef forward(self, x):\n",
        "\t\tencoded = self.encoder(x)\n",
        "\t\tdecoded = self.decoder(encoded)\n",
        "\t\treturn decoded\n"
      ],
      "id": "c4c3d825-1182-43ab-a36d-b43af30d6efa"
    },
    {
      "cell_type": "code",
      "execution_count": 130,
      "metadata": {
        "colab": {
          "base_uri": "https://localhost:8080/"
        },
        "id": "6480a6c9-8b21-4b14-8dc3-45ddfc521355",
        "outputId": "f63d12b3-550a-4bbe-f5a1-1edcacd34756",
        "scrolled": true
      },
      "outputs": [
        {
          "output_type": "stream",
          "name": "stdout",
          "text": [
            "----------------------------------------------------------------\n",
            "        Layer (type)               Output Shape         Param #\n",
            "================================================================\n",
            "            Conv2d-1         [32, 16, 127, 127]             768\n",
            "         LeakyReLU-2         [32, 16, 127, 127]               0\n",
            "            Conv2d-3           [32, 32, 62, 62]           8,192\n",
            "       BatchNorm2d-4           [32, 32, 62, 62]              64\n",
            "         LeakyReLU-5           [32, 32, 62, 62]               0\n",
            "            Conv2d-6           [32, 64, 30, 30]          32,768\n",
            "         LeakyReLU-7           [32, 64, 30, 30]               0\n",
            "            Conv2d-8          [32, 128, 14, 14]         131,072\n",
            "       BatchNorm2d-9          [32, 128, 14, 14]             256\n",
            "        LeakyReLU-10          [32, 128, 14, 14]               0\n",
            "           Conv2d-11            [32, 256, 6, 6]         524,288\n",
            "      BatchNorm2d-12            [32, 256, 6, 6]             512\n",
            "        LeakyReLU-13            [32, 256, 6, 6]               0\n",
            "           Conv2d-14            [32, 512, 2, 2]       2,097,152\n",
            "      BatchNorm2d-15            [32, 512, 2, 2]           1,024\n",
            "        LeakyReLU-16            [32, 512, 2, 2]               0\n",
            "  ConvTranspose2d-17            [32, 512, 6, 6]       4,194,304\n",
            "          Dropout-18            [32, 512, 6, 6]               0\n",
            "        LeakyReLU-19            [32, 512, 6, 6]               0\n",
            "  ConvTranspose2d-20          [32, 256, 14, 14]       2,097,152\n",
            "        LeakyReLU-21          [32, 256, 14, 14]               0\n",
            "  ConvTranspose2d-22          [32, 128, 30, 30]         524,288\n",
            "          Dropout-23          [32, 128, 30, 30]               0\n",
            "        LeakyReLU-24          [32, 128, 30, 30]               0\n",
            "  ConvTranspose2d-25           [32, 64, 62, 62]         131,072\n",
            "        LeakyReLU-26           [32, 64, 62, 62]               0\n",
            "  ConvTranspose2d-27         [32, 32, 126, 126]          32,768\n",
            "        LeakyReLU-28         [32, 32, 126, 126]               0\n",
            "  ConvTranspose2d-29         [32, 16, 254, 254]           8,192\n",
            "        LeakyReLU-30         [32, 16, 254, 254]               0\n",
            "  ConvTranspose2d-31          [32, 8, 255, 255]             520\n",
            "  ConvTranspose2d-32          [32, 3, 256, 256]              99\n",
            "================================================================\n",
            "Total params: 9,784,491\n",
            "Trainable params: 9,784,491\n",
            "Non-trainable params: 0\n",
            "----------------------------------------------------------------\n",
            "Input size (MB): 24.00\n",
            "Forward/backward pass size (MB): 1440.45\n",
            "Params size (MB): 37.32\n",
            "Estimated Total Size (MB): 1501.77\n",
            "----------------------------------------------------------------\n"
          ]
        }
      ],
      "source": [
        "autoencoder = AE().to(device)\n",
        "summary(autoencoder, (3,256,256), batch_size=32, device=device)"
      ],
      "id": "6480a6c9-8b21-4b14-8dc3-45ddfc521355"
    },
    {
      "cell_type": "code",
      "execution_count": 131,
      "metadata": {
        "id": "330133ce-e8cf-4511-b314-97a94dd11f7c"
      },
      "outputs": [],
      "source": [
        "# Validation using MSE Loss function\n",
        "loss_function = nn.MSELoss()\n",
        "\n",
        "# Using an Adam Optimizer with lr = 0.001\n",
        "optimizer = torch.optim.Adam(autoencoder.parameters(), lr = 1e-3)\n"
      ],
      "id": "330133ce-e8cf-4511-b314-97a94dd11f7c"
    },
    {
      "cell_type": "code",
      "execution_count": 132,
      "metadata": {
        "colab": {
          "base_uri": "https://localhost:8080/",
          "height": 433,
          "referenced_widgets": [
            "945841d1efb2469394d4cf9ce1d31140",
            "7e6bca69ce164d32ba0f165f472f073c",
            "19f75f868d8b4156b4c137e84b17c313",
            "98f31e274a8a46859e3135476abc7c09",
            "ce9c7b3c23914b0284555b36b61304ff",
            "9cfbbd67e54f48ac9adf08c4ff6313a1",
            "de487ba0ddbd47ee91ccc66efe78f8f7",
            "f73dc90bd5924df6a6d9f383cf19058f",
            "f04c5e839490462280123845816e1b36",
            "fff5b4434ad54e69b163b344650dff25",
            "fde4cf426fad4650a8b9e9a70a46c85c",
            "37411f6d303540a1a90b35867a828263",
            "b3e52daad9c74b8b9f30b5530a0f2f7e",
            "bc334fd58c87468a992ab0b43afa7e7e",
            "620f803a8bcd44e68c0685d16cdb42ac",
            "5e811b7f44b24fd19e2dd67f8c6a5355"
          ]
        },
        "id": "22a42e3f-4a42-4bcb-bfd2-4df977f5790b",
        "outputId": "f659ed7b-aebd-47ae-cfb8-87a605ce0dd7"
      },
      "outputs": [
        {
          "output_type": "display_data",
          "data": {
            "text/plain": [
              "<IPython.core.display.HTML object>"
            ],
            "text/html": [
              "Finishing last run (ID:toqi2iih) before initializing another..."
            ]
          },
          "metadata": {}
        },
        {
          "output_type": "display_data",
          "data": {
            "text/plain": [
              "VBox(children=(Label(value='0.528 MB of 0.528 MB uploaded\\r'), FloatProgress(value=1.0, max=1.0)))"
            ],
            "application/vnd.jupyter.widget-view+json": {
              "version_major": 2,
              "version_minor": 0,
              "model_id": "945841d1efb2469394d4cf9ce1d31140"
            }
          },
          "metadata": {}
        },
        {
          "output_type": "display_data",
          "data": {
            "text/plain": [
              "<IPython.core.display.HTML object>"
            ],
            "text/html": [
              " View run <strong style=\"color:#cdcd00\">absurd-voice-10</strong> at: <a href='https://wandb.ai/magalieah/magacrea/runs/toqi2iih' target=\"_blank\">https://wandb.ai/magalieah/magacrea/runs/toqi2iih</a><br/> View job at <a href='https://wandb.ai/magalieah/magacrea/jobs/QXJ0aWZhY3RDb2xsZWN0aW9uOjExODkxNTY1Nw==/version_details/v0' target=\"_blank\">https://wandb.ai/magalieah/magacrea/jobs/QXJ0aWZhY3RDb2xsZWN0aW9uOjExODkxNTY1Nw==/version_details/v0</a><br/>Synced 5 W&B file(s), 0 media file(s), 11 artifact file(s) and 1 other file(s)"
            ]
          },
          "metadata": {}
        },
        {
          "output_type": "display_data",
          "data": {
            "text/plain": [
              "<IPython.core.display.HTML object>"
            ],
            "text/html": [
              "Find logs at: <code>./wandb/run-20231126_185513-toqi2iih/logs</code>"
            ]
          },
          "metadata": {}
        },
        {
          "output_type": "display_data",
          "data": {
            "text/plain": [
              "<IPython.core.display.HTML object>"
            ],
            "text/html": [
              "Successfully finished last run (ID:toqi2iih). Initializing new run:<br/>"
            ]
          },
          "metadata": {}
        },
        {
          "output_type": "display_data",
          "data": {
            "text/plain": [
              "<IPython.core.display.HTML object>"
            ],
            "text/html": [
              "Tracking run with wandb version 0.16.0"
            ]
          },
          "metadata": {}
        },
        {
          "output_type": "display_data",
          "data": {
            "text/plain": [
              "<IPython.core.display.HTML object>"
            ],
            "text/html": [
              "Run data is saved locally in <code>/content/wandb/run-20231126_185608-tfftqg8j</code>"
            ]
          },
          "metadata": {}
        },
        {
          "output_type": "display_data",
          "data": {
            "text/plain": [
              "<IPython.core.display.HTML object>"
            ],
            "text/html": [
              "Syncing run <strong><a href='https://wandb.ai/magalieah/magacrea/runs/tfftqg8j' target=\"_blank\">kind-night-11</a></strong> to <a href='https://wandb.ai/magalieah/magacrea' target=\"_blank\">Weights & Biases</a> (<a href='https://wandb.me/run' target=\"_blank\">docs</a>)<br/>"
            ]
          },
          "metadata": {}
        },
        {
          "output_type": "display_data",
          "data": {
            "text/plain": [
              "<IPython.core.display.HTML object>"
            ],
            "text/html": [
              " View project at <a href='https://wandb.ai/magalieah/magacrea' target=\"_blank\">https://wandb.ai/magalieah/magacrea</a>"
            ]
          },
          "metadata": {}
        },
        {
          "output_type": "display_data",
          "data": {
            "text/plain": [
              "<IPython.core.display.HTML object>"
            ],
            "text/html": [
              " View run at <a href='https://wandb.ai/magalieah/magacrea/runs/tfftqg8j' target=\"_blank\">https://wandb.ai/magalieah/magacrea/runs/tfftqg8j</a>"
            ]
          },
          "metadata": {}
        },
        {
          "output_type": "stream",
          "name": "stderr",
          "text": [
            "100%|██████████| 100/100 [1:18:51<00:00, 47.31s/it]\n"
          ]
        },
        {
          "output_type": "display_data",
          "data": {
            "text/plain": [
              "VBox(children=(Label(value='757.985 MB of 758.595 MB uploaded\\r'), FloatProgress(value=0.9991957025184749, max…"
            ],
            "application/vnd.jupyter.widget-view+json": {
              "version_major": 2,
              "version_minor": 0,
              "model_id": "f04c5e839490462280123845816e1b36"
            }
          },
          "metadata": {}
        },
        {
          "output_type": "display_data",
          "data": {
            "text/plain": [
              "<IPython.core.display.HTML object>"
            ],
            "text/html": [
              "<style>\n",
              "    table.wandb td:nth-child(1) { padding: 0 10px; text-align: left ; width: auto;} td:nth-child(2) {text-align: left ; width: 100%}\n",
              "    .wandb-row { display: flex; flex-direction: row; flex-wrap: wrap; justify-content: flex-start; width: 100% }\n",
              "    .wandb-col { display: flex; flex-direction: column; flex-basis: 100%; flex: 1; padding: 10px; }\n",
              "    </style>\n",
              "<div class=\"wandb-row\"><div class=\"wandb-col\"><h3>Run history:</h3><br/><table class=\"wandb\"><tr><td>test/mean_loss</td><td>▁</td></tr><tr><td>training/loss</td><td>▅█▅▅▃▂▂▂▁▁▁▁▁▁▁▁▁▁▁▁▁▁▁▁▁▁▁▁▁▁▁▁▁▁▁▁▁▁▁▁</td></tr></table><br/></div><div class=\"wandb-col\"><h3>Run summary:</h3><br/><table class=\"wandb\"><tr><td>test/mean_loss</td><td>0.05667</td></tr><tr><td>training/loss</td><td>0.0273</td></tr></table><br/></div></div>"
            ]
          },
          "metadata": {}
        },
        {
          "output_type": "display_data",
          "data": {
            "text/plain": [
              "<IPython.core.display.HTML object>"
            ],
            "text/html": [
              " View run <strong style=\"color:#cdcd00\">kind-night-11</strong> at: <a href='https://wandb.ai/magalieah/magacrea/runs/tfftqg8j' target=\"_blank\">https://wandb.ai/magalieah/magacrea/runs/tfftqg8j</a><br/>Synced 5 W&B file(s), 303 media file(s), 0 artifact file(s) and 0 other file(s)"
            ]
          },
          "metadata": {}
        },
        {
          "output_type": "display_data",
          "data": {
            "text/plain": [
              "<IPython.core.display.HTML object>"
            ],
            "text/html": [
              "Find logs at: <code>./wandb/run-20231126_185608-tfftqg8j/logs</code>"
            ]
          },
          "metadata": {}
        }
      ],
      "source": [
        "config = {\n",
        "    'batch_size':4,\n",
        "    'lr':0.001,\n",
        "    'epochs':100,\n",
        "    'image_size':IM_SIZE,\n",
        "    'dataset_training_mode':False,\n",
        "    'num_workers':2\n",
        "    }\n",
        "\n",
        "run = wandb.init(project='magacrea', job_type='train', save_code=True, config=config)\n",
        "epochs = 100\n",
        "\n",
        "for epoch in tqdm(range(epochs)):\n",
        "    for ix, batch in enumerate(iter(train_dataloader)):\n",
        "        photo, drawing = batch\n",
        "        photo, drawing = photo.to(device), drawing.to(device)\n",
        "        if epoch==0 and ix==0:\n",
        "          print(f'photo min : {photo.min()}, photo max : {photo.max()}')\n",
        "          print(f'drawing min : {drawing.min()}, drawing max : {drawing.max()}')\n",
        "\n",
        "        # Shape [BATCH_SIZE, CHANNEL, SIZE, SIZE]\n",
        "    \t# Output of Autoencoder\n",
        "\n",
        "        reconstructed_drawing = autoencoder(photo)\n",
        "\n",
        "    \t# Calculating the loss function\n",
        "        loss = loss_function(reconstructed_drawing, drawing)\n",
        "\n",
        "    \t# The gradients are set to zero,\n",
        "    \t# the gradient is computed and stored.\n",
        "    \t# .step() performs parameter update\n",
        "        optimizer.zero_grad()\n",
        "        loss.backward()\n",
        "\n",
        "        optimizer.step()\n",
        "\n",
        "    \t# Storing the losses in a list for plotting\n",
        "        run.log({'training/loss' : loss.item()})\n",
        "    run.log({'training/reconstructed': wandb.Image(reconstructed_drawing), 'training/drawing': wandb.Image(drawing), 'training/photo': wandb.Image(photo)})\n",
        "\n",
        "with torch.no_grad():\n",
        "  losses=[]\n",
        "  autoencoder=autoencoder.eval()\n",
        "  for ix, batch in enumerate(iter(test_dataloader)):\n",
        "    photo, drawing = batch\n",
        "    photo, drawing = photo.to(device), drawing.to(device)\n",
        "    reconstructed_drawing = autoencoder(photo)\n",
        "    loss = loss_function(reconstructed_drawing, drawing)\n",
        "    losses.append(loss)\n",
        "    run.log({'test/reconstructed': wandb.Image(reconstructed_drawing), 'test/drawing': wandb.Image(drawing), 'test/photo': wandb.Image(photo)})\n",
        "\n",
        "  mean_loss = torch.Tensor(losses).mean()\n",
        "  run.log({'test/mean_loss': mean_loss})\n",
        "  autoencoder=autoencoder.train()\n",
        "\n",
        "torch.save(autoencoder.state_dict(), 'autoencoder.pth')\n",
        "artifact = wandb.Artifact(name=\"autoencoder\", type=\"model\")\n",
        "artifact.add_file(local_path=\"./autoencoder.pth\")  # Add dataset directory to artifact\n",
        "run.log_artifact(artifact)  # Logs the artifact version \"my_data:v0\"\n",
        "run.finish()"
      ],
      "id": "22a42e3f-4a42-4bcb-bfd2-4df977f5790b"
    }
  ],
  "metadata": {
    "accelerator": "GPU",
    "colab": {
      "provenance": []
    },
    "kernelspec": {
      "display_name": "magacrea",
      "language": "python",
      "name": "magacrea"
    },
    "language_info": {
      "codemirror_mode": {
        "name": "ipython",
        "version": 3
      },
      "file_extension": ".py",
      "mimetype": "text/x-python",
      "name": "python",
      "nbconvert_exporter": "python",
      "pygments_lexer": "ipython3",
      "version": "3.9.7"
    },
    "widgets": {
      "application/vnd.jupyter.widget-state+json": {
        "945841d1efb2469394d4cf9ce1d31140": {
          "model_module": "@jupyter-widgets/controls",
          "model_name": "VBoxModel",
          "model_module_version": "1.5.0",
          "state": {
            "_dom_classes": [],
            "_model_module": "@jupyter-widgets/controls",
            "_model_module_version": "1.5.0",
            "_model_name": "VBoxModel",
            "_view_count": null,
            "_view_module": "@jupyter-widgets/controls",
            "_view_module_version": "1.5.0",
            "_view_name": "VBoxView",
            "box_style": "",
            "children": [
              "IPY_MODEL_7e6bca69ce164d32ba0f165f472f073c",
              "IPY_MODEL_19f75f868d8b4156b4c137e84b17c313"
            ],
            "layout": "IPY_MODEL_98f31e274a8a46859e3135476abc7c09"
          }
        },
        "7e6bca69ce164d32ba0f165f472f073c": {
          "model_module": "@jupyter-widgets/controls",
          "model_name": "LabelModel",
          "model_module_version": "1.5.0",
          "state": {
            "_dom_classes": [],
            "_model_module": "@jupyter-widgets/controls",
            "_model_module_version": "1.5.0",
            "_model_name": "LabelModel",
            "_view_count": null,
            "_view_module": "@jupyter-widgets/controls",
            "_view_module_version": "1.5.0",
            "_view_name": "LabelView",
            "description": "",
            "description_tooltip": null,
            "layout": "IPY_MODEL_ce9c7b3c23914b0284555b36b61304ff",
            "placeholder": "​",
            "style": "IPY_MODEL_9cfbbd67e54f48ac9adf08c4ff6313a1",
            "value": "0.651 MB of 0.651 MB uploaded\r"
          }
        },
        "19f75f868d8b4156b4c137e84b17c313": {
          "model_module": "@jupyter-widgets/controls",
          "model_name": "FloatProgressModel",
          "model_module_version": "1.5.0",
          "state": {
            "_dom_classes": [],
            "_model_module": "@jupyter-widgets/controls",
            "_model_module_version": "1.5.0",
            "_model_name": "FloatProgressModel",
            "_view_count": null,
            "_view_module": "@jupyter-widgets/controls",
            "_view_module_version": "1.5.0",
            "_view_name": "ProgressView",
            "bar_style": "",
            "description": "",
            "description_tooltip": null,
            "layout": "IPY_MODEL_de487ba0ddbd47ee91ccc66efe78f8f7",
            "max": 1,
            "min": 0,
            "orientation": "horizontal",
            "style": "IPY_MODEL_f73dc90bd5924df6a6d9f383cf19058f",
            "value": 1
          }
        },
        "98f31e274a8a46859e3135476abc7c09": {
          "model_module": "@jupyter-widgets/base",
          "model_name": "LayoutModel",
          "model_module_version": "1.2.0",
          "state": {
            "_model_module": "@jupyter-widgets/base",
            "_model_module_version": "1.2.0",
            "_model_name": "LayoutModel",
            "_view_count": null,
            "_view_module": "@jupyter-widgets/base",
            "_view_module_version": "1.2.0",
            "_view_name": "LayoutView",
            "align_content": null,
            "align_items": null,
            "align_self": null,
            "border": null,
            "bottom": null,
            "display": null,
            "flex": null,
            "flex_flow": null,
            "grid_area": null,
            "grid_auto_columns": null,
            "grid_auto_flow": null,
            "grid_auto_rows": null,
            "grid_column": null,
            "grid_gap": null,
            "grid_row": null,
            "grid_template_areas": null,
            "grid_template_columns": null,
            "grid_template_rows": null,
            "height": null,
            "justify_content": null,
            "justify_items": null,
            "left": null,
            "margin": null,
            "max_height": null,
            "max_width": null,
            "min_height": null,
            "min_width": null,
            "object_fit": null,
            "object_position": null,
            "order": null,
            "overflow": null,
            "overflow_x": null,
            "overflow_y": null,
            "padding": null,
            "right": null,
            "top": null,
            "visibility": null,
            "width": null
          }
        },
        "ce9c7b3c23914b0284555b36b61304ff": {
          "model_module": "@jupyter-widgets/base",
          "model_name": "LayoutModel",
          "model_module_version": "1.2.0",
          "state": {
            "_model_module": "@jupyter-widgets/base",
            "_model_module_version": "1.2.0",
            "_model_name": "LayoutModel",
            "_view_count": null,
            "_view_module": "@jupyter-widgets/base",
            "_view_module_version": "1.2.0",
            "_view_name": "LayoutView",
            "align_content": null,
            "align_items": null,
            "align_self": null,
            "border": null,
            "bottom": null,
            "display": null,
            "flex": null,
            "flex_flow": null,
            "grid_area": null,
            "grid_auto_columns": null,
            "grid_auto_flow": null,
            "grid_auto_rows": null,
            "grid_column": null,
            "grid_gap": null,
            "grid_row": null,
            "grid_template_areas": null,
            "grid_template_columns": null,
            "grid_template_rows": null,
            "height": null,
            "justify_content": null,
            "justify_items": null,
            "left": null,
            "margin": null,
            "max_height": null,
            "max_width": null,
            "min_height": null,
            "min_width": null,
            "object_fit": null,
            "object_position": null,
            "order": null,
            "overflow": null,
            "overflow_x": null,
            "overflow_y": null,
            "padding": null,
            "right": null,
            "top": null,
            "visibility": null,
            "width": null
          }
        },
        "9cfbbd67e54f48ac9adf08c4ff6313a1": {
          "model_module": "@jupyter-widgets/controls",
          "model_name": "DescriptionStyleModel",
          "model_module_version": "1.5.0",
          "state": {
            "_model_module": "@jupyter-widgets/controls",
            "_model_module_version": "1.5.0",
            "_model_name": "DescriptionStyleModel",
            "_view_count": null,
            "_view_module": "@jupyter-widgets/base",
            "_view_module_version": "1.2.0",
            "_view_name": "StyleView",
            "description_width": ""
          }
        },
        "de487ba0ddbd47ee91ccc66efe78f8f7": {
          "model_module": "@jupyter-widgets/base",
          "model_name": "LayoutModel",
          "model_module_version": "1.2.0",
          "state": {
            "_model_module": "@jupyter-widgets/base",
            "_model_module_version": "1.2.0",
            "_model_name": "LayoutModel",
            "_view_count": null,
            "_view_module": "@jupyter-widgets/base",
            "_view_module_version": "1.2.0",
            "_view_name": "LayoutView",
            "align_content": null,
            "align_items": null,
            "align_self": null,
            "border": null,
            "bottom": null,
            "display": null,
            "flex": null,
            "flex_flow": null,
            "grid_area": null,
            "grid_auto_columns": null,
            "grid_auto_flow": null,
            "grid_auto_rows": null,
            "grid_column": null,
            "grid_gap": null,
            "grid_row": null,
            "grid_template_areas": null,
            "grid_template_columns": null,
            "grid_template_rows": null,
            "height": null,
            "justify_content": null,
            "justify_items": null,
            "left": null,
            "margin": null,
            "max_height": null,
            "max_width": null,
            "min_height": null,
            "min_width": null,
            "object_fit": null,
            "object_position": null,
            "order": null,
            "overflow": null,
            "overflow_x": null,
            "overflow_y": null,
            "padding": null,
            "right": null,
            "top": null,
            "visibility": null,
            "width": null
          }
        },
        "f73dc90bd5924df6a6d9f383cf19058f": {
          "model_module": "@jupyter-widgets/controls",
          "model_name": "ProgressStyleModel",
          "model_module_version": "1.5.0",
          "state": {
            "_model_module": "@jupyter-widgets/controls",
            "_model_module_version": "1.5.0",
            "_model_name": "ProgressStyleModel",
            "_view_count": null,
            "_view_module": "@jupyter-widgets/base",
            "_view_module_version": "1.2.0",
            "_view_name": "StyleView",
            "bar_color": null,
            "description_width": ""
          }
        },
        "f04c5e839490462280123845816e1b36": {
          "model_module": "@jupyter-widgets/controls",
          "model_name": "VBoxModel",
          "model_module_version": "1.5.0",
          "state": {
            "_dom_classes": [],
            "_model_module": "@jupyter-widgets/controls",
            "_model_module_version": "1.5.0",
            "_model_name": "VBoxModel",
            "_view_count": null,
            "_view_module": "@jupyter-widgets/controls",
            "_view_module_version": "1.5.0",
            "_view_name": "VBoxView",
            "box_style": "",
            "children": [
              "IPY_MODEL_fff5b4434ad54e69b163b344650dff25",
              "IPY_MODEL_fde4cf426fad4650a8b9e9a70a46c85c"
            ],
            "layout": "IPY_MODEL_37411f6d303540a1a90b35867a828263"
          }
        },
        "fff5b4434ad54e69b163b344650dff25": {
          "model_module": "@jupyter-widgets/controls",
          "model_name": "LabelModel",
          "model_module_version": "1.5.0",
          "state": {
            "_dom_classes": [],
            "_model_module": "@jupyter-widgets/controls",
            "_model_module_version": "1.5.0",
            "_model_name": "LabelModel",
            "_view_count": null,
            "_view_module": "@jupyter-widgets/controls",
            "_view_module_version": "1.5.0",
            "_view_name": "LabelView",
            "description": "",
            "description_tooltip": null,
            "layout": "IPY_MODEL_b3e52daad9c74b8b9f30b5530a0f2f7e",
            "placeholder": "​",
            "style": "IPY_MODEL_bc334fd58c87468a992ab0b43afa7e7e",
            "value": "758.595 MB of 758.595 MB uploaded\r"
          }
        },
        "fde4cf426fad4650a8b9e9a70a46c85c": {
          "model_module": "@jupyter-widgets/controls",
          "model_name": "FloatProgressModel",
          "model_module_version": "1.5.0",
          "state": {
            "_dom_classes": [],
            "_model_module": "@jupyter-widgets/controls",
            "_model_module_version": "1.5.0",
            "_model_name": "FloatProgressModel",
            "_view_count": null,
            "_view_module": "@jupyter-widgets/controls",
            "_view_module_version": "1.5.0",
            "_view_name": "ProgressView",
            "bar_style": "",
            "description": "",
            "description_tooltip": null,
            "layout": "IPY_MODEL_620f803a8bcd44e68c0685d16cdb42ac",
            "max": 1,
            "min": 0,
            "orientation": "horizontal",
            "style": "IPY_MODEL_5e811b7f44b24fd19e2dd67f8c6a5355",
            "value": 1
          }
        },
        "37411f6d303540a1a90b35867a828263": {
          "model_module": "@jupyter-widgets/base",
          "model_name": "LayoutModel",
          "model_module_version": "1.2.0",
          "state": {
            "_model_module": "@jupyter-widgets/base",
            "_model_module_version": "1.2.0",
            "_model_name": "LayoutModel",
            "_view_count": null,
            "_view_module": "@jupyter-widgets/base",
            "_view_module_version": "1.2.0",
            "_view_name": "LayoutView",
            "align_content": null,
            "align_items": null,
            "align_self": null,
            "border": null,
            "bottom": null,
            "display": null,
            "flex": null,
            "flex_flow": null,
            "grid_area": null,
            "grid_auto_columns": null,
            "grid_auto_flow": null,
            "grid_auto_rows": null,
            "grid_column": null,
            "grid_gap": null,
            "grid_row": null,
            "grid_template_areas": null,
            "grid_template_columns": null,
            "grid_template_rows": null,
            "height": null,
            "justify_content": null,
            "justify_items": null,
            "left": null,
            "margin": null,
            "max_height": null,
            "max_width": null,
            "min_height": null,
            "min_width": null,
            "object_fit": null,
            "object_position": null,
            "order": null,
            "overflow": null,
            "overflow_x": null,
            "overflow_y": null,
            "padding": null,
            "right": null,
            "top": null,
            "visibility": null,
            "width": null
          }
        },
        "b3e52daad9c74b8b9f30b5530a0f2f7e": {
          "model_module": "@jupyter-widgets/base",
          "model_name": "LayoutModel",
          "model_module_version": "1.2.0",
          "state": {
            "_model_module": "@jupyter-widgets/base",
            "_model_module_version": "1.2.0",
            "_model_name": "LayoutModel",
            "_view_count": null,
            "_view_module": "@jupyter-widgets/base",
            "_view_module_version": "1.2.0",
            "_view_name": "LayoutView",
            "align_content": null,
            "align_items": null,
            "align_self": null,
            "border": null,
            "bottom": null,
            "display": null,
            "flex": null,
            "flex_flow": null,
            "grid_area": null,
            "grid_auto_columns": null,
            "grid_auto_flow": null,
            "grid_auto_rows": null,
            "grid_column": null,
            "grid_gap": null,
            "grid_row": null,
            "grid_template_areas": null,
            "grid_template_columns": null,
            "grid_template_rows": null,
            "height": null,
            "justify_content": null,
            "justify_items": null,
            "left": null,
            "margin": null,
            "max_height": null,
            "max_width": null,
            "min_height": null,
            "min_width": null,
            "object_fit": null,
            "object_position": null,
            "order": null,
            "overflow": null,
            "overflow_x": null,
            "overflow_y": null,
            "padding": null,
            "right": null,
            "top": null,
            "visibility": null,
            "width": null
          }
        },
        "bc334fd58c87468a992ab0b43afa7e7e": {
          "model_module": "@jupyter-widgets/controls",
          "model_name": "DescriptionStyleModel",
          "model_module_version": "1.5.0",
          "state": {
            "_model_module": "@jupyter-widgets/controls",
            "_model_module_version": "1.5.0",
            "_model_name": "DescriptionStyleModel",
            "_view_count": null,
            "_view_module": "@jupyter-widgets/base",
            "_view_module_version": "1.2.0",
            "_view_name": "StyleView",
            "description_width": ""
          }
        },
        "620f803a8bcd44e68c0685d16cdb42ac": {
          "model_module": "@jupyter-widgets/base",
          "model_name": "LayoutModel",
          "model_module_version": "1.2.0",
          "state": {
            "_model_module": "@jupyter-widgets/base",
            "_model_module_version": "1.2.0",
            "_model_name": "LayoutModel",
            "_view_count": null,
            "_view_module": "@jupyter-widgets/base",
            "_view_module_version": "1.2.0",
            "_view_name": "LayoutView",
            "align_content": null,
            "align_items": null,
            "align_self": null,
            "border": null,
            "bottom": null,
            "display": null,
            "flex": null,
            "flex_flow": null,
            "grid_area": null,
            "grid_auto_columns": null,
            "grid_auto_flow": null,
            "grid_auto_rows": null,
            "grid_column": null,
            "grid_gap": null,
            "grid_row": null,
            "grid_template_areas": null,
            "grid_template_columns": null,
            "grid_template_rows": null,
            "height": null,
            "justify_content": null,
            "justify_items": null,
            "left": null,
            "margin": null,
            "max_height": null,
            "max_width": null,
            "min_height": null,
            "min_width": null,
            "object_fit": null,
            "object_position": null,
            "order": null,
            "overflow": null,
            "overflow_x": null,
            "overflow_y": null,
            "padding": null,
            "right": null,
            "top": null,
            "visibility": null,
            "width": null
          }
        },
        "5e811b7f44b24fd19e2dd67f8c6a5355": {
          "model_module": "@jupyter-widgets/controls",
          "model_name": "ProgressStyleModel",
          "model_module_version": "1.5.0",
          "state": {
            "_model_module": "@jupyter-widgets/controls",
            "_model_module_version": "1.5.0",
            "_model_name": "ProgressStyleModel",
            "_view_count": null,
            "_view_module": "@jupyter-widgets/base",
            "_view_module_version": "1.2.0",
            "_view_name": "StyleView",
            "bar_color": null,
            "description_width": ""
          }
        }
      }
    }
  },
  "nbformat": 4,
  "nbformat_minor": 5
}